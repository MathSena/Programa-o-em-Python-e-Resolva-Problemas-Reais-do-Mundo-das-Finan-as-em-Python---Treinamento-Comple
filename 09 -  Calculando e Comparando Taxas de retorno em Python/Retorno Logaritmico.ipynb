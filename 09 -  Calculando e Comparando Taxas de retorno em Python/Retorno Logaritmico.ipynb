{
 "cells": [
  {
   "cell_type": "code",
   "execution_count": 2,
   "metadata": {},
   "outputs": [],
   "source": [
    "import numpy as np\n",
    "from pandas_datareader import data as wb\n",
    "import matplotlib.pyplot as plt"
   ]
  },
  {
   "cell_type": "code",
   "execution_count": 3,
   "metadata": {},
   "outputs": [],
   "source": [
    "AAPL =wb.DataReader('AAPL', data_source='yahoo', start = '2010-10-1')"
   ]
  },
  {
   "cell_type": "code",
   "execution_count": 4,
   "metadata": {},
   "outputs": [
    {
     "data": {
      "text/html": [
       "<div>\n",
       "<style scoped>\n",
       "    .dataframe tbody tr th:only-of-type {\n",
       "        vertical-align: middle;\n",
       "    }\n",
       "\n",
       "    .dataframe tbody tr th {\n",
       "        vertical-align: top;\n",
       "    }\n",
       "\n",
       "    .dataframe thead th {\n",
       "        text-align: right;\n",
       "    }\n",
       "</style>\n",
       "<table border=\"1\" class=\"dataframe\">\n",
       "  <thead>\n",
       "    <tr style=\"text-align: right;\">\n",
       "      <th></th>\n",
       "      <th>High</th>\n",
       "      <th>Low</th>\n",
       "      <th>Open</th>\n",
       "      <th>Close</th>\n",
       "      <th>Volume</th>\n",
       "      <th>Adj Close</th>\n",
       "    </tr>\n",
       "    <tr>\n",
       "      <th>Date</th>\n",
       "      <th></th>\n",
       "      <th></th>\n",
       "      <th></th>\n",
       "      <th></th>\n",
       "      <th></th>\n",
       "      <th></th>\n",
       "    </tr>\n",
       "  </thead>\n",
       "  <tbody>\n",
       "    <tr>\n",
       "      <th>2010-10-01</th>\n",
       "      <td>10.235000</td>\n",
       "      <td>10.048214</td>\n",
       "      <td>10.219643</td>\n",
       "      <td>10.090000</td>\n",
       "      <td>448142800.0</td>\n",
       "      <td>8.719163</td>\n",
       "    </tr>\n",
       "    <tr>\n",
       "      <th>2010-10-04</th>\n",
       "      <td>10.103572</td>\n",
       "      <td>9.920357</td>\n",
       "      <td>10.057143</td>\n",
       "      <td>9.951428</td>\n",
       "      <td>435302000.0</td>\n",
       "      <td>8.599421</td>\n",
       "    </tr>\n",
       "    <tr>\n",
       "      <th>2010-10-05</th>\n",
       "      <td>10.337500</td>\n",
       "      <td>10.065000</td>\n",
       "      <td>10.071428</td>\n",
       "      <td>10.319285</td>\n",
       "      <td>501967200.0</td>\n",
       "      <td>8.917298</td>\n",
       "    </tr>\n",
       "    <tr>\n",
       "      <th>2010-10-06</th>\n",
       "      <td>10.428214</td>\n",
       "      <td>10.187857</td>\n",
       "      <td>10.342500</td>\n",
       "      <td>10.328215</td>\n",
       "      <td>670868800.0</td>\n",
       "      <td>8.925013</td>\n",
       "    </tr>\n",
       "    <tr>\n",
       "      <th>2010-10-07</th>\n",
       "      <td>10.374286</td>\n",
       "      <td>10.246786</td>\n",
       "      <td>10.369286</td>\n",
       "      <td>10.329286</td>\n",
       "      <td>408399600.0</td>\n",
       "      <td>8.925941</td>\n",
       "    </tr>\n",
       "  </tbody>\n",
       "</table>\n",
       "</div>"
      ],
      "text/plain": [
       "                 High        Low       Open      Close       Volume  Adj Close\n",
       "Date                                                                          \n",
       "2010-10-01  10.235000  10.048214  10.219643  10.090000  448142800.0   8.719163\n",
       "2010-10-04  10.103572   9.920357  10.057143   9.951428  435302000.0   8.599421\n",
       "2010-10-05  10.337500  10.065000  10.071428  10.319285  501967200.0   8.917298\n",
       "2010-10-06  10.428214  10.187857  10.342500  10.328215  670868800.0   8.925013\n",
       "2010-10-07  10.374286  10.246786  10.369286  10.329286  408399600.0   8.925941"
      ]
     },
     "execution_count": 4,
     "metadata": {},
     "output_type": "execute_result"
    }
   ],
   "source": [
    "AAPL.head()"
   ]
  },
  {
   "cell_type": "code",
   "execution_count": 5,
   "metadata": {},
   "outputs": [
    {
     "data": {
      "text/html": [
       "<div>\n",
       "<style scoped>\n",
       "    .dataframe tbody tr th:only-of-type {\n",
       "        vertical-align: middle;\n",
       "    }\n",
       "\n",
       "    .dataframe tbody tr th {\n",
       "        vertical-align: top;\n",
       "    }\n",
       "\n",
       "    .dataframe thead th {\n",
       "        text-align: right;\n",
       "    }\n",
       "</style>\n",
       "<table border=\"1\" class=\"dataframe\">\n",
       "  <thead>\n",
       "    <tr style=\"text-align: right;\">\n",
       "      <th></th>\n",
       "      <th>High</th>\n",
       "      <th>Low</th>\n",
       "      <th>Open</th>\n",
       "      <th>Close</th>\n",
       "      <th>Volume</th>\n",
       "      <th>Adj Close</th>\n",
       "    </tr>\n",
       "    <tr>\n",
       "      <th>Date</th>\n",
       "      <th></th>\n",
       "      <th></th>\n",
       "      <th></th>\n",
       "      <th></th>\n",
       "      <th></th>\n",
       "      <th></th>\n",
       "    </tr>\n",
       "  </thead>\n",
       "  <tbody>\n",
       "    <tr>\n",
       "      <th>2020-10-16</th>\n",
       "      <td>121.550003</td>\n",
       "      <td>118.809998</td>\n",
       "      <td>121.279999</td>\n",
       "      <td>119.019997</td>\n",
       "      <td>115393800.0</td>\n",
       "      <td>119.019997</td>\n",
       "    </tr>\n",
       "    <tr>\n",
       "      <th>2020-10-19</th>\n",
       "      <td>120.419998</td>\n",
       "      <td>115.660004</td>\n",
       "      <td>119.959999</td>\n",
       "      <td>115.980003</td>\n",
       "      <td>120639300.0</td>\n",
       "      <td>115.980003</td>\n",
       "    </tr>\n",
       "    <tr>\n",
       "      <th>2020-10-20</th>\n",
       "      <td>118.980003</td>\n",
       "      <td>115.629997</td>\n",
       "      <td>116.199997</td>\n",
       "      <td>117.510002</td>\n",
       "      <td>124423700.0</td>\n",
       "      <td>117.510002</td>\n",
       "    </tr>\n",
       "    <tr>\n",
       "      <th>2020-10-21</th>\n",
       "      <td>118.709999</td>\n",
       "      <td>116.449997</td>\n",
       "      <td>116.669998</td>\n",
       "      <td>116.870003</td>\n",
       "      <td>89424000.0</td>\n",
       "      <td>116.870003</td>\n",
       "    </tr>\n",
       "    <tr>\n",
       "      <th>2020-10-22</th>\n",
       "      <td>118.040001</td>\n",
       "      <td>114.589996</td>\n",
       "      <td>117.449997</td>\n",
       "      <td>115.750000</td>\n",
       "      <td>100137943.0</td>\n",
       "      <td>115.750000</td>\n",
       "    </tr>\n",
       "  </tbody>\n",
       "</table>\n",
       "</div>"
      ],
      "text/plain": [
       "                  High         Low        Open       Close       Volume  \\\n",
       "Date                                                                      \n",
       "2020-10-16  121.550003  118.809998  121.279999  119.019997  115393800.0   \n",
       "2020-10-19  120.419998  115.660004  119.959999  115.980003  120639300.0   \n",
       "2020-10-20  118.980003  115.629997  116.199997  117.510002  124423700.0   \n",
       "2020-10-21  118.709999  116.449997  116.669998  116.870003   89424000.0   \n",
       "2020-10-22  118.040001  114.589996  117.449997  115.750000  100137943.0   \n",
       "\n",
       "             Adj Close  \n",
       "Date                    \n",
       "2020-10-16  119.019997  \n",
       "2020-10-19  115.980003  \n",
       "2020-10-20  117.510002  \n",
       "2020-10-21  116.870003  \n",
       "2020-10-22  115.750000  "
      ]
     },
     "execution_count": 5,
     "metadata": {},
     "output_type": "execute_result"
    }
   ],
   "source": [
    "AAPL.tail()"
   ]
  },
  {
   "cell_type": "code",
   "execution_count": 19,
   "metadata": {},
   "outputs": [
    {
     "name": "stdout",
     "output_type": "stream",
     "text": [
      "Date\n",
      "2010-10-01         NaN\n",
      "2010-10-04   -0.013828\n",
      "2010-10-05    0.036298\n",
      "2010-10-06    0.000865\n",
      "2010-10-07    0.000104\n",
      "                ...   \n",
      "2020-10-16   -0.014099\n",
      "2020-10-19   -0.025874\n",
      "2020-10-20    0.013106\n",
      "2020-10-21   -0.005461\n",
      "2020-10-22   -0.009630\n",
      "Name: Retorno log, Length: 2533, dtype: float64\n"
     ]
    }
   ],
   "source": [
    "AAPL['Retorno log'] = np.log((AAPL['Adj Close']/AAPL['Adj Close'].shift(1)))\n",
    "print (AAPL['Retorno log'])"
   ]
  },
  {
   "cell_type": "code",
   "execution_count": 20,
   "metadata": {},
   "outputs": [
    {
     "data": {
      "text/plain": [
       "<matplotlib.axes._subplots.AxesSubplot at 0x1ae4ad213c8>"
      ]
     },
     "execution_count": 20,
     "metadata": {},
     "output_type": "execute_result"
    },
    {
     "data": {
      "image/png": "[encoded data removed]",
      "text/plain": [
       "<Figure size 576x360 with 1 Axes>"
      ]
     },
     "metadata": {
      "needs_background": "light"
     },
     "output_type": "display_data"
    }
   ],
   "source": [
    "AAPL['Retorno log'].plot(figsize=(8,5))"
   ]
  },
  {
   "cell_type": "code",
   "execution_count": 21,
   "metadata": {},
   "outputs": [
    {
     "data": {
      "text/plain": [
       "0.0010212912530253066"
      ]
     },
     "execution_count": 21,
     "metadata": {},
     "output_type": "execute_result"
    }
   ],
   "source": [
    "avg_return_d = AAPL['Retorno log'].mean()\n",
    "avg_return_d"
   ]
  },
  {
   "cell_type": "code",
   "execution_count": 22,
   "metadata": {},
   "outputs": [
    {
     "data": {
      "text/plain": [
       "0.25532281325632666"
      ]
     },
     "execution_count": 22,
     "metadata": {},
     "output_type": "execute_result"
    }
   ],
   "source": [
    "avg_return_a = AAPL['Retorno log'].mean()*250\n",
    "avg_return_a"
   ]
  },
  {
   "cell_type": "code",
   "execution_count": 23,
   "metadata": {},
   "outputs": [
    {
     "name": "stdout",
     "output_type": "stream",
     "text": [
      "25.532 %\n"
     ]
    }
   ],
   "source": [
    "print (str(round(avg_return_a, 5) *100) + ' %')"
   ]
  },
  {
   "cell_type": "code",
   "execution_count": 12,
   "metadata": {},
   "outputs": [],
   "source": [
    "CEA =wb.DataReader('CEAB3.SA', data_source='yahoo', start = '2018-1-1')"
   ]
  },
  {
   "cell_type": "code",
   "execution_count": 13,
   "metadata": {},
   "outputs": [
    {
     "data": {
      "text/html": [
       "<div>\n",
       "<style scoped>\n",
       "    .dataframe tbody tr th:only-of-type {\n",
       "        vertical-align: middle;\n",
       "    }\n",
       "\n",
       "    .dataframe tbody tr th {\n",
       "        vertical-align: top;\n",
       "    }\n",
       "\n",
       "    .dataframe thead th {\n",
       "        text-align: right;\n",
       "    }\n",
       "</style>\n",
       "<table border=\"1\" class=\"dataframe\">\n",
       "  <thead>\n",
       "    <tr style=\"text-align: right;\">\n",
       "      <th></th>\n",
       "      <th>High</th>\n",
       "      <th>Low</th>\n",
       "      <th>Open</th>\n",
       "      <th>Close</th>\n",
       "      <th>Volume</th>\n",
       "      <th>Adj Close</th>\n",
       "    </tr>\n",
       "    <tr>\n",
       "      <th>Date</th>\n",
       "      <th></th>\n",
       "      <th></th>\n",
       "      <th></th>\n",
       "      <th></th>\n",
       "      <th></th>\n",
       "      <th></th>\n",
       "    </tr>\n",
       "  </thead>\n",
       "  <tbody>\n",
       "    <tr>\n",
       "      <th>2019-11-04</th>\n",
       "      <td>17.940001</td>\n",
       "      <td>17.330000</td>\n",
       "      <td>17.34</td>\n",
       "      <td>17.900000</td>\n",
       "      <td>2610900.0</td>\n",
       "      <td>17.647087</td>\n",
       "    </tr>\n",
       "    <tr>\n",
       "      <th>2019-11-05</th>\n",
       "      <td>18.000000</td>\n",
       "      <td>17.760000</td>\n",
       "      <td>18.00</td>\n",
       "      <td>18.000000</td>\n",
       "      <td>862100.0</td>\n",
       "      <td>17.745674</td>\n",
       "    </tr>\n",
       "    <tr>\n",
       "      <th>2019-11-06</th>\n",
       "      <td>18.059999</td>\n",
       "      <td>17.639999</td>\n",
       "      <td>18.00</td>\n",
       "      <td>17.850000</td>\n",
       "      <td>1352600.0</td>\n",
       "      <td>17.597795</td>\n",
       "    </tr>\n",
       "    <tr>\n",
       "      <th>2019-11-07</th>\n",
       "      <td>17.850000</td>\n",
       "      <td>17.129999</td>\n",
       "      <td>17.85</td>\n",
       "      <td>17.700001</td>\n",
       "      <td>2452400.0</td>\n",
       "      <td>17.449915</td>\n",
       "    </tr>\n",
       "    <tr>\n",
       "      <th>2019-11-08</th>\n",
       "      <td>17.840000</td>\n",
       "      <td>17.240000</td>\n",
       "      <td>17.65</td>\n",
       "      <td>17.500000</td>\n",
       "      <td>463500.0</td>\n",
       "      <td>17.252739</td>\n",
       "    </tr>\n",
       "  </tbody>\n",
       "</table>\n",
       "</div>"
      ],
      "text/plain": [
       "                 High        Low   Open      Close     Volume  Adj Close\n",
       "Date                                                                    \n",
       "2019-11-04  17.940001  17.330000  17.34  17.900000  2610900.0  17.647087\n",
       "2019-11-05  18.000000  17.760000  18.00  18.000000   862100.0  17.745674\n",
       "2019-11-06  18.059999  17.639999  18.00  17.850000  1352600.0  17.597795\n",
       "2019-11-07  17.850000  17.129999  17.85  17.700001  2452400.0  17.449915\n",
       "2019-11-08  17.840000  17.240000  17.65  17.500000   463500.0  17.252739"
      ]
     },
     "execution_count": 13,
     "metadata": {},
     "output_type": "execute_result"
    }
   ],
   "source": [
    "CEA.head()"
   ]
  },
  {
   "cell_type": "code",
   "execution_count": 14,
   "metadata": {},
   "outputs": [
    {
     "data": {
      "text/html": [
       "<div>\n",
       "<style scoped>\n",
       "    .dataframe tbody tr th:only-of-type {\n",
       "        vertical-align: middle;\n",
       "    }\n",
       "\n",
       "    .dataframe tbody tr th {\n",
       "        vertical-align: top;\n",
       "    }\n",
       "\n",
       "    .dataframe thead th {\n",
       "        text-align: right;\n",
       "    }\n",
       "</style>\n",
       "<table border=\"1\" class=\"dataframe\">\n",
       "  <thead>\n",
       "    <tr style=\"text-align: right;\">\n",
       "      <th></th>\n",
       "      <th>High</th>\n",
       "      <th>Low</th>\n",
       "      <th>Open</th>\n",
       "      <th>Close</th>\n",
       "      <th>Volume</th>\n",
       "      <th>Adj Close</th>\n",
       "    </tr>\n",
       "    <tr>\n",
       "      <th>Date</th>\n",
       "      <th></th>\n",
       "      <th></th>\n",
       "      <th></th>\n",
       "      <th></th>\n",
       "      <th></th>\n",
       "      <th></th>\n",
       "    </tr>\n",
       "  </thead>\n",
       "  <tbody>\n",
       "    <tr>\n",
       "      <th>2020-10-16</th>\n",
       "      <td>13.02</td>\n",
       "      <td>12.52</td>\n",
       "      <td>12.73</td>\n",
       "      <td>12.80</td>\n",
       "      <td>3012400.0</td>\n",
       "      <td>12.80</td>\n",
       "    </tr>\n",
       "    <tr>\n",
       "      <th>2020-10-19</th>\n",
       "      <td>14.19</td>\n",
       "      <td>13.22</td>\n",
       "      <td>13.35</td>\n",
       "      <td>13.73</td>\n",
       "      <td>6795200.0</td>\n",
       "      <td>13.73</td>\n",
       "    </tr>\n",
       "    <tr>\n",
       "      <th>2020-10-20</th>\n",
       "      <td>13.73</td>\n",
       "      <td>13.13</td>\n",
       "      <td>13.73</td>\n",
       "      <td>13.25</td>\n",
       "      <td>4543600.0</td>\n",
       "      <td>13.25</td>\n",
       "    </tr>\n",
       "    <tr>\n",
       "      <th>2020-10-21</th>\n",
       "      <td>13.31</td>\n",
       "      <td>12.63</td>\n",
       "      <td>13.21</td>\n",
       "      <td>12.77</td>\n",
       "      <td>3074000.0</td>\n",
       "      <td>12.77</td>\n",
       "    </tr>\n",
       "    <tr>\n",
       "      <th>2020-10-22</th>\n",
       "      <td>12.85</td>\n",
       "      <td>12.21</td>\n",
       "      <td>12.78</td>\n",
       "      <td>12.50</td>\n",
       "      <td>3089400.0</td>\n",
       "      <td>12.50</td>\n",
       "    </tr>\n",
       "  </tbody>\n",
       "</table>\n",
       "</div>"
      ],
      "text/plain": [
       "             High    Low   Open  Close     Volume  Adj Close\n",
       "Date                                                        \n",
       "2020-10-16  13.02  12.52  12.73  12.80  3012400.0      12.80\n",
       "2020-10-19  14.19  13.22  13.35  13.73  6795200.0      13.73\n",
       "2020-10-20  13.73  13.13  13.73  13.25  4543600.0      13.25\n",
       "2020-10-21  13.31  12.63  13.21  12.77  3074000.0      12.77\n",
       "2020-10-22  12.85  12.21  12.78  12.50  3089400.0      12.50"
      ]
     },
     "execution_count": 14,
     "metadata": {},
     "output_type": "execute_result"
    }
   ],
   "source": [
    "CEA.tail()"
   ]
  },
  {
   "cell_type": "code",
   "execution_count": 24,
   "metadata": {},
   "outputs": [
    {
     "name": "stdout",
     "output_type": "stream",
     "text": [
      "Date\n",
      "2019-11-04         NaN\n",
      "2019-11-05    0.005571\n",
      "2019-11-06   -0.008368\n",
      "2019-11-07   -0.008439\n",
      "2019-11-08   -0.011364\n",
      "                ...   \n",
      "2020-10-16    0.013370\n",
      "2020-10-19    0.070138\n",
      "2020-10-20   -0.035586\n",
      "2020-10-21   -0.036899\n",
      "2020-10-22   -0.021370\n",
      "Name: Retorno log, Length: 239, dtype: float64\n"
     ]
    }
   ],
   "source": [
    "CEA['Retorno log'] = np.log(CEA['Adj Close']/CEA['Adj Close'].shift(1))\n",
    "print (CEA['Retorno log'])"
   ]
  },
  {
   "cell_type": "code",
   "execution_count": 32,
   "metadata": {},
   "outputs": [
    {
     "data": {
      "text/plain": [
       "<matplotlib.axes._subplots.AxesSubplot at 0x1ae4ae04808>"
      ]
     },
     "execution_count": 32,
     "metadata": {},
     "output_type": "execute_result"
    },
    {
     "data": {
      "image/png": "[encoded data removed]",
      "text/plain": [
       "<Figure size 576x360 with 1 Axes>"
      ]
     },
     "metadata": {
      "needs_background": "light"
     },
     "output_type": "display_data"
    }
   ],
   "source": [
    "CEA['Retorno log'].plot(figsize=(8,5))"
   ]
  },
  {
   "cell_type": "code",
   "execution_count": 26,
   "metadata": {},
   "outputs": [
    {
     "data": {
      "text/plain": [
       "-0.001448916338081085"
      ]
     },
     "execution_count": 26,
     "metadata": {},
     "output_type": "execute_result"
    }
   ],
   "source": [
    "avg_return_d = CEA['Retorno log'].mean()\n",
    "avg_return_d"
   ]
  },
  {
   "cell_type": "code",
   "execution_count": 27,
   "metadata": {},
   "outputs": [
    {
     "data": {
      "text/plain": [
       "-0.36222908452027125"
      ]
     },
     "execution_count": 27,
     "metadata": {},
     "output_type": "execute_result"
    }
   ],
   "source": [
    "avg_return_a = CEA['Retorno log'].mean()*250\n",
    "avg_return_a"
   ]
  },
  {
   "cell_type": "code",
   "execution_count": 28,
   "metadata": {},
   "outputs": [
    {
     "name": "stdout",
     "output_type": "stream",
     "text": [
      "-36.223 %\n"
     ]
    }
   ],
   "source": [
    "print (str(round(avg_return_a, 5) *100) + ' %')"
   ]
  },
  {
   "cell_type": "code",
   "execution_count": null,
   "metadata": {},
   "outputs": [],
   "source": []
  }
 ],
 "metadata": {
  "kernelspec": {
   "display_name": "Python 3",
   "language": "python",
   "name": "python3"
  },
  "language_info": {
   "codemirror_mode": {
    "name": "ipython",
    "version": 3
   },
   "file_extension": ".py",
   "mimetype": "text/x-python",
   "name": "python",
   "nbconvert_exporter": "python",
   "pygments_lexer": "ipython3",
   "version": "3.7.6"
  }
 },
 "nbformat": 4,
 "nbformat_minor": 4
}
