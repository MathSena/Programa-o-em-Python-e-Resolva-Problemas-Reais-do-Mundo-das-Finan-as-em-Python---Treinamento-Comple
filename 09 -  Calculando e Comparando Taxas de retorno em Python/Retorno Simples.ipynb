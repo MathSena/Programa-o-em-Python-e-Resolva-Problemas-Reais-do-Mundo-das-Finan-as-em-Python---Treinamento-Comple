{
 "cells": [
  {
   "cell_type": "code",
   "execution_count": 2,
   "metadata": {},
   "outputs": [],
   "source": [
    "import numpy as np\n",
    "from pandas_datareader import data as wb\n",
    "import matplotlib.pyplot as plt"
   ]
  },
  {
   "cell_type": "code",
   "execution_count": 8,
   "metadata": {},
   "outputs": [],
   "source": [
    "AAPL =wb.DataReader('AAPL', data_source='yahoo', start = '2020-10-1')"
   ]
  },
  {
   "cell_type": "code",
   "execution_count": 9,
   "metadata": {},
   "outputs": [
    {
     "data": {
      "text/html": [
       "<div>\n",
       "<style scoped>\n",
       "    .dataframe tbody tr th:only-of-type {\n",
       "        vertical-align: middle;\n",
       "    }\n",
       "\n",
       "    .dataframe tbody tr th {\n",
       "        vertical-align: top;\n",
       "    }\n",
       "\n",
       "    .dataframe thead th {\n",
       "        text-align: right;\n",
       "    }\n",
       "</style>\n",
       "<table border=\"1\" class=\"dataframe\">\n",
       "  <thead>\n",
       "    <tr style=\"text-align: right;\">\n",
       "      <th></th>\n",
       "      <th>High</th>\n",
       "      <th>Low</th>\n",
       "      <th>Open</th>\n",
       "      <th>Close</th>\n",
       "      <th>Volume</th>\n",
       "      <th>Adj Close</th>\n",
       "    </tr>\n",
       "    <tr>\n",
       "      <th>Date</th>\n",
       "      <th></th>\n",
       "      <th></th>\n",
       "      <th></th>\n",
       "      <th></th>\n",
       "      <th></th>\n",
       "      <th></th>\n",
       "    </tr>\n",
       "  </thead>\n",
       "  <tbody>\n",
       "    <tr>\n",
       "      <th>2020-10-01</th>\n",
       "      <td>117.720001</td>\n",
       "      <td>115.830002</td>\n",
       "      <td>117.639999</td>\n",
       "      <td>116.790001</td>\n",
       "      <td>116120400</td>\n",
       "      <td>116.790001</td>\n",
       "    </tr>\n",
       "    <tr>\n",
       "      <th>2020-10-02</th>\n",
       "      <td>115.370003</td>\n",
       "      <td>112.220001</td>\n",
       "      <td>112.889999</td>\n",
       "      <td>113.019997</td>\n",
       "      <td>144712000</td>\n",
       "      <td>113.019997</td>\n",
       "    </tr>\n",
       "    <tr>\n",
       "      <th>2020-10-05</th>\n",
       "      <td>116.650002</td>\n",
       "      <td>113.550003</td>\n",
       "      <td>113.910004</td>\n",
       "      <td>116.500000</td>\n",
       "      <td>106243800</td>\n",
       "      <td>116.500000</td>\n",
       "    </tr>\n",
       "    <tr>\n",
       "      <th>2020-10-06</th>\n",
       "      <td>116.120003</td>\n",
       "      <td>112.250000</td>\n",
       "      <td>115.699997</td>\n",
       "      <td>113.160004</td>\n",
       "      <td>161498200</td>\n",
       "      <td>113.160004</td>\n",
       "    </tr>\n",
       "    <tr>\n",
       "      <th>2020-10-07</th>\n",
       "      <td>115.550003</td>\n",
       "      <td>114.129997</td>\n",
       "      <td>114.620003</td>\n",
       "      <td>115.080002</td>\n",
       "      <td>96849000</td>\n",
       "      <td>115.080002</td>\n",
       "    </tr>\n",
       "  </tbody>\n",
       "</table>\n",
       "</div>"
      ],
      "text/plain": [
       "                  High         Low        Open       Close     Volume  \\\n",
       "Date                                                                    \n",
       "2020-10-01  117.720001  115.830002  117.639999  116.790001  116120400   \n",
       "2020-10-02  115.370003  112.220001  112.889999  113.019997  144712000   \n",
       "2020-10-05  116.650002  113.550003  113.910004  116.500000  106243800   \n",
       "2020-10-06  116.120003  112.250000  115.699997  113.160004  161498200   \n",
       "2020-10-07  115.550003  114.129997  114.620003  115.080002   96849000   \n",
       "\n",
       "             Adj Close  \n",
       "Date                    \n",
       "2020-10-01  116.790001  \n",
       "2020-10-02  113.019997  \n",
       "2020-10-05  116.500000  \n",
       "2020-10-06  113.160004  \n",
       "2020-10-07  115.080002  "
      ]
     },
     "execution_count": 9,
     "metadata": {},
     "output_type": "execute_result"
    }
   ],
   "source": [
    "AAPL.head()"
   ]
  },
  {
   "cell_type": "code",
   "execution_count": 10,
   "metadata": {},
   "outputs": [
    {
     "data": {
      "text/html": [
       "<div>\n",
       "<style scoped>\n",
       "    .dataframe tbody tr th:only-of-type {\n",
       "        vertical-align: middle;\n",
       "    }\n",
       "\n",
       "    .dataframe tbody tr th {\n",
       "        vertical-align: top;\n",
       "    }\n",
       "\n",
       "    .dataframe thead th {\n",
       "        text-align: right;\n",
       "    }\n",
       "</style>\n",
       "<table border=\"1\" class=\"dataframe\">\n",
       "  <thead>\n",
       "    <tr style=\"text-align: right;\">\n",
       "      <th></th>\n",
       "      <th>High</th>\n",
       "      <th>Low</th>\n",
       "      <th>Open</th>\n",
       "      <th>Close</th>\n",
       "      <th>Volume</th>\n",
       "      <th>Adj Close</th>\n",
       "    </tr>\n",
       "    <tr>\n",
       "      <th>Date</th>\n",
       "      <th></th>\n",
       "      <th></th>\n",
       "      <th></th>\n",
       "      <th></th>\n",
       "      <th></th>\n",
       "      <th></th>\n",
       "    </tr>\n",
       "  </thead>\n",
       "  <tbody>\n",
       "    <tr>\n",
       "      <th>2020-10-16</th>\n",
       "      <td>121.550003</td>\n",
       "      <td>118.809998</td>\n",
       "      <td>121.279999</td>\n",
       "      <td>119.019997</td>\n",
       "      <td>115393800</td>\n",
       "      <td>119.019997</td>\n",
       "    </tr>\n",
       "    <tr>\n",
       "      <th>2020-10-19</th>\n",
       "      <td>120.419998</td>\n",
       "      <td>115.660004</td>\n",
       "      <td>119.959999</td>\n",
       "      <td>115.980003</td>\n",
       "      <td>120639300</td>\n",
       "      <td>115.980003</td>\n",
       "    </tr>\n",
       "    <tr>\n",
       "      <th>2020-10-20</th>\n",
       "      <td>118.980003</td>\n",
       "      <td>115.629997</td>\n",
       "      <td>116.199997</td>\n",
       "      <td>117.510002</td>\n",
       "      <td>124423700</td>\n",
       "      <td>117.510002</td>\n",
       "    </tr>\n",
       "    <tr>\n",
       "      <th>2020-10-21</th>\n",
       "      <td>118.709999</td>\n",
       "      <td>116.449997</td>\n",
       "      <td>116.669998</td>\n",
       "      <td>116.870003</td>\n",
       "      <td>89424000</td>\n",
       "      <td>116.870003</td>\n",
       "    </tr>\n",
       "    <tr>\n",
       "      <th>2020-10-22</th>\n",
       "      <td>118.040001</td>\n",
       "      <td>114.589996</td>\n",
       "      <td>117.449997</td>\n",
       "      <td>115.750000</td>\n",
       "      <td>100137943</td>\n",
       "      <td>115.750000</td>\n",
       "    </tr>\n",
       "  </tbody>\n",
       "</table>\n",
       "</div>"
      ],
      "text/plain": [
       "                  High         Low        Open       Close     Volume  \\\n",
       "Date                                                                    \n",
       "2020-10-16  121.550003  118.809998  121.279999  119.019997  115393800   \n",
       "2020-10-19  120.419998  115.660004  119.959999  115.980003  120639300   \n",
       "2020-10-20  118.980003  115.629997  116.199997  117.510002  124423700   \n",
       "2020-10-21  118.709999  116.449997  116.669998  116.870003   89424000   \n",
       "2020-10-22  118.040001  114.589996  117.449997  115.750000  100137943   \n",
       "\n",
       "             Adj Close  \n",
       "Date                    \n",
       "2020-10-16  119.019997  \n",
       "2020-10-19  115.980003  \n",
       "2020-10-20  117.510002  \n",
       "2020-10-21  116.870003  \n",
       "2020-10-22  115.750000  "
      ]
     },
     "execution_count": 10,
     "metadata": {},
     "output_type": "execute_result"
    }
   ],
   "source": [
    "AAPL.tail()"
   ]
  },
  {
   "cell_type": "code",
   "execution_count": 11,
   "metadata": {},
   "outputs": [
    {
     "name": "stdout",
     "output_type": "stream",
     "text": [
      "Date\n",
      "2020-10-01         NaN\n",
      "2020-10-02   -0.032280\n",
      "2020-10-05    0.030791\n",
      "2020-10-06   -0.028669\n",
      "2020-10-07    0.016967\n",
      "2020-10-08   -0.000956\n",
      "2020-10-09    0.017396\n",
      "2020-10-12    0.063521\n",
      "2020-10-13   -0.026527\n",
      "2020-10-14    0.000743\n",
      "2020-10-15   -0.003961\n",
      "2020-10-16   -0.014001\n",
      "2020-10-19   -0.025542\n",
      "2020-10-20    0.013192\n",
      "2020-10-21   -0.005446\n",
      "2020-10-22   -0.009583\n",
      "Name: Retorno simples, dtype: float64\n"
     ]
    }
   ],
   "source": [
    "AAPL['Retorno simples'] = (AAPL['Adj Close']/AAPL['Adj Close'].shift(1))-1\n",
    "print (AAPL['Retorno simples'])"
   ]
  },
  {
   "cell_type": "code",
   "execution_count": 16,
   "metadata": {},
   "outputs": [],
   "source": [
    "CEA =wb.DataReader('CEAB3.SA', data_source='yahoo', start = '2020-10-1')"
   ]
  },
  {
   "cell_type": "code",
   "execution_count": 17,
   "metadata": {},
   "outputs": [
    {
     "data": {
      "text/html": [
       "<div>\n",
       "<style scoped>\n",
       "    .dataframe tbody tr th:only-of-type {\n",
       "        vertical-align: middle;\n",
       "    }\n",
       "\n",
       "    .dataframe tbody tr th {\n",
       "        vertical-align: top;\n",
       "    }\n",
       "\n",
       "    .dataframe thead th {\n",
       "        text-align: right;\n",
       "    }\n",
       "</style>\n",
       "<table border=\"1\" class=\"dataframe\">\n",
       "  <thead>\n",
       "    <tr style=\"text-align: right;\">\n",
       "      <th></th>\n",
       "      <th>High</th>\n",
       "      <th>Low</th>\n",
       "      <th>Open</th>\n",
       "      <th>Close</th>\n",
       "      <th>Volume</th>\n",
       "      <th>Adj Close</th>\n",
       "    </tr>\n",
       "    <tr>\n",
       "      <th>Date</th>\n",
       "      <th></th>\n",
       "      <th></th>\n",
       "      <th></th>\n",
       "      <th></th>\n",
       "      <th></th>\n",
       "      <th></th>\n",
       "    </tr>\n",
       "  </thead>\n",
       "  <tbody>\n",
       "    <tr>\n",
       "      <th>2020-10-01</th>\n",
       "      <td>12.20</td>\n",
       "      <td>11.55</td>\n",
       "      <td>11.58</td>\n",
       "      <td>12.02</td>\n",
       "      <td>1825000</td>\n",
       "      <td>12.02</td>\n",
       "    </tr>\n",
       "    <tr>\n",
       "      <th>2020-10-02</th>\n",
       "      <td>12.28</td>\n",
       "      <td>11.93</td>\n",
       "      <td>11.97</td>\n",
       "      <td>12.16</td>\n",
       "      <td>1512600</td>\n",
       "      <td>12.16</td>\n",
       "    </tr>\n",
       "    <tr>\n",
       "      <th>2020-10-05</th>\n",
       "      <td>12.40</td>\n",
       "      <td>12.15</td>\n",
       "      <td>12.24</td>\n",
       "      <td>12.30</td>\n",
       "      <td>602800</td>\n",
       "      <td>12.30</td>\n",
       "    </tr>\n",
       "    <tr>\n",
       "      <th>2020-10-06</th>\n",
       "      <td>12.39</td>\n",
       "      <td>12.00</td>\n",
       "      <td>12.39</td>\n",
       "      <td>12.04</td>\n",
       "      <td>1315200</td>\n",
       "      <td>12.04</td>\n",
       "    </tr>\n",
       "    <tr>\n",
       "      <th>2020-10-07</th>\n",
       "      <td>12.26</td>\n",
       "      <td>11.80</td>\n",
       "      <td>12.11</td>\n",
       "      <td>11.95</td>\n",
       "      <td>1553900</td>\n",
       "      <td>11.95</td>\n",
       "    </tr>\n",
       "  </tbody>\n",
       "</table>\n",
       "</div>"
      ],
      "text/plain": [
       "             High    Low   Open  Close   Volume  Adj Close\n",
       "Date                                                      \n",
       "2020-10-01  12.20  11.55  11.58  12.02  1825000      12.02\n",
       "2020-10-02  12.28  11.93  11.97  12.16  1512600      12.16\n",
       "2020-10-05  12.40  12.15  12.24  12.30   602800      12.30\n",
       "2020-10-06  12.39  12.00  12.39  12.04  1315200      12.04\n",
       "2020-10-07  12.26  11.80  12.11  11.95  1553900      11.95"
      ]
     },
     "execution_count": 17,
     "metadata": {},
     "output_type": "execute_result"
    }
   ],
   "source": [
    "CEA.head()"
   ]
  },
  {
   "cell_type": "code",
   "execution_count": 18,
   "metadata": {},
   "outputs": [
    {
     "data": {
      "text/html": [
       "<div>\n",
       "<style scoped>\n",
       "    .dataframe tbody tr th:only-of-type {\n",
       "        vertical-align: middle;\n",
       "    }\n",
       "\n",
       "    .dataframe tbody tr th {\n",
       "        vertical-align: top;\n",
       "    }\n",
       "\n",
       "    .dataframe thead th {\n",
       "        text-align: right;\n",
       "    }\n",
       "</style>\n",
       "<table border=\"1\" class=\"dataframe\">\n",
       "  <thead>\n",
       "    <tr style=\"text-align: right;\">\n",
       "      <th></th>\n",
       "      <th>High</th>\n",
       "      <th>Low</th>\n",
       "      <th>Open</th>\n",
       "      <th>Close</th>\n",
       "      <th>Volume</th>\n",
       "      <th>Adj Close</th>\n",
       "    </tr>\n",
       "    <tr>\n",
       "      <th>Date</th>\n",
       "      <th></th>\n",
       "      <th></th>\n",
       "      <th></th>\n",
       "      <th></th>\n",
       "      <th></th>\n",
       "      <th></th>\n",
       "    </tr>\n",
       "  </thead>\n",
       "  <tbody>\n",
       "    <tr>\n",
       "      <th>2020-10-16</th>\n",
       "      <td>13.02</td>\n",
       "      <td>12.52</td>\n",
       "      <td>12.73</td>\n",
       "      <td>12.80</td>\n",
       "      <td>3012400</td>\n",
       "      <td>12.80</td>\n",
       "    </tr>\n",
       "    <tr>\n",
       "      <th>2020-10-19</th>\n",
       "      <td>14.19</td>\n",
       "      <td>13.22</td>\n",
       "      <td>13.35</td>\n",
       "      <td>13.73</td>\n",
       "      <td>6795200</td>\n",
       "      <td>13.73</td>\n",
       "    </tr>\n",
       "    <tr>\n",
       "      <th>2020-10-20</th>\n",
       "      <td>13.73</td>\n",
       "      <td>13.13</td>\n",
       "      <td>13.73</td>\n",
       "      <td>13.25</td>\n",
       "      <td>4543600</td>\n",
       "      <td>13.25</td>\n",
       "    </tr>\n",
       "    <tr>\n",
       "      <th>2020-10-21</th>\n",
       "      <td>13.31</td>\n",
       "      <td>12.63</td>\n",
       "      <td>13.21</td>\n",
       "      <td>12.77</td>\n",
       "      <td>3074000</td>\n",
       "      <td>12.77</td>\n",
       "    </tr>\n",
       "    <tr>\n",
       "      <th>2020-10-22</th>\n",
       "      <td>12.85</td>\n",
       "      <td>12.21</td>\n",
       "      <td>12.78</td>\n",
       "      <td>12.50</td>\n",
       "      <td>3089400</td>\n",
       "      <td>12.50</td>\n",
       "    </tr>\n",
       "  </tbody>\n",
       "</table>\n",
       "</div>"
      ],
      "text/plain": [
       "             High    Low   Open  Close   Volume  Adj Close\n",
       "Date                                                      \n",
       "2020-10-16  13.02  12.52  12.73  12.80  3012400      12.80\n",
       "2020-10-19  14.19  13.22  13.35  13.73  6795200      13.73\n",
       "2020-10-20  13.73  13.13  13.73  13.25  4543600      13.25\n",
       "2020-10-21  13.31  12.63  13.21  12.77  3074000      12.77\n",
       "2020-10-22  12.85  12.21  12.78  12.50  3089400      12.50"
      ]
     },
     "execution_count": 18,
     "metadata": {},
     "output_type": "execute_result"
    }
   ],
   "source": [
    "CEA.tail()"
   ]
  },
  {
   "cell_type": "code",
   "execution_count": 19,
   "metadata": {},
   "outputs": [
    {
     "name": "stdout",
     "output_type": "stream",
     "text": [
      "Date\n",
      "2020-10-01         NaN\n",
      "2020-10-02    0.011647\n",
      "2020-10-05    0.011513\n",
      "2020-10-06   -0.021138\n",
      "2020-10-07   -0.007475\n",
      "2020-10-08    0.007531\n",
      "2020-10-09   -0.036545\n",
      "2020-10-13    0.052586\n",
      "2020-10-14   -0.000819\n",
      "2020-10-15    0.035246\n",
      "2020-10-16    0.013460\n",
      "2020-10-19    0.072656\n",
      "2020-10-20   -0.034960\n",
      "2020-10-21   -0.036226\n",
      "2020-10-22   -0.021143\n",
      "Name: Retorno simples, dtype: float64\n"
     ]
    }
   ],
   "source": [
    "CEA['Retorno simples'] = (CEA['Adj Close']/CEA['Adj Close'].shift(1))-1\n",
    "print (CEA['Retorno simples'])"
   ]
  },
  {
   "cell_type": "code",
   "execution_count": 21,
   "metadata": {},
   "outputs": [
    {
     "data": {
      "text/plain": [
       "<matplotlib.axes._subplots.AxesSubplot at 0x259633a1948>"
      ]
     },
     "execution_count": 21,
     "metadata": {},
     "output_type": "execute_result"
    },
    {
     "data": {
      "image/png": "[encoded data removed]",
      "text/plain": [
       "<Figure size 576x360 with 1 Axes>"
      ]
     },
     "metadata": {
      "needs_background": "light"
     },
     "output_type": "display_data"
    }
   ],
   "source": [
    "AAPL['Retorno simples'].plot(figsize=(8,5))"
   ]
  },
  {
   "cell_type": "code",
   "execution_count": 25,
   "metadata": {},
   "outputs": [
    {
     "data": {
      "text/plain": [
       "-0.00029040102157961524"
      ]
     },
     "execution_count": 25,
     "metadata": {},
     "output_type": "execute_result"
    }
   ],
   "source": [
    "avg_return_d = AAPL['Retorno simples'].mean()\n",
    "avg_return_d"
   ]
  },
  {
   "cell_type": "code",
   "execution_count": 28,
   "metadata": {},
   "outputs": [
    {
     "data": {
      "text/plain": [
       "-0.004356015323694229"
      ]
     },
     "execution_count": 28,
     "metadata": {},
     "output_type": "execute_result"
    }
   ],
   "source": [
    "avg_return_a = AAPL['Retorno simples'].mean()*15\n",
    "avg_return_a"
   ]
  },
  {
   "cell_type": "code",
   "execution_count": 29,
   "metadata": {},
   "outputs": [
    {
     "name": "stdout",
     "output_type": "stream",
     "text": [
      "-0.436 %\n"
     ]
    }
   ],
   "source": [
    "print (str(round(avg_return_a, 5) *100) + ' %')"
   ]
  },
  {
   "cell_type": "code",
   "execution_count": 30,
   "metadata": {},
   "outputs": [
    {
     "data": {
      "text/plain": [
       "<matplotlib.axes._subplots.AxesSubplot at 0x25963601388>"
      ]
     },
     "execution_count": 30,
     "metadata": {},
     "output_type": "execute_result"
    },
    {
     "data": {
      "image/png": "[encoded data removed]",
      "text/plain": [
       "<Figure size 576x360 with 1 Axes>"
      ]
     },
     "metadata": {
      "needs_background": "light"
     },
     "output_type": "display_data"
    }
   ],
   "source": [
    "CEA['Retorno simples'].plot(figsize=(8,5))"
   ]
  },
  {
   "cell_type": "code",
   "execution_count": 31,
   "metadata": {},
   "outputs": [
    {
     "data": {
      "text/plain": [
       "0.003309522535562207"
      ]
     },
     "execution_count": 31,
     "metadata": {},
     "output_type": "execute_result"
    }
   ],
   "source": [
    "avg_return_d = CEA['Retorno simples'].mean()\n",
    "avg_return_d"
   ]
  },
  {
   "cell_type": "code",
   "execution_count": 32,
   "metadata": {},
   "outputs": [
    {
     "data": {
      "text/plain": [
       "0.049642838033433105"
      ]
     },
     "execution_count": 32,
     "metadata": {},
     "output_type": "execute_result"
    }
   ],
   "source": [
    "avg_return_a = CEA['Retorno simples'].mean()*15\n",
    "avg_return_a"
   ]
  },
  {
   "cell_type": "code",
   "execution_count": 33,
   "metadata": {},
   "outputs": [
    {
     "name": "stdout",
     "output_type": "stream",
     "text": [
      "4.9639999999999995 %\n"
     ]
    }
   ],
   "source": [
    "print (str(round(avg_return_a, 5) *100) + ' %')"
   ]
  },
  {
   "cell_type": "code",
   "execution_count": null,
   "metadata": {},
   "outputs": [],
   "source": []
  }
 ],
 "metadata": {
  "kernelspec": {
   "display_name": "Python 3",
   "language": "python",
   "name": "python3"
  },
  "language_info": {
   "codemirror_mode": {
    "name": "ipython",
    "version": 3
   },
   "file_extension": ".py",
   "mimetype": "text/x-python",
   "name": "python",
   "nbconvert_exporter": "python",
   "pygments_lexer": "ipython3",
   "version": "3.7.6"
  }
 },
 "nbformat": 4,
 "nbformat_minor": 4
}
