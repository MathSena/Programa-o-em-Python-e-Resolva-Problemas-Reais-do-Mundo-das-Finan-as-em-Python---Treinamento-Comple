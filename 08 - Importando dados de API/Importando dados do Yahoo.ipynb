{
 "cells": [
  {
   "cell_type": "code",
   "execution_count": 4,
   "metadata": {},
   "outputs": [],
   "source": [
    "import numpy as np\n",
    "import pandas as pd"
   ]
  },
  {
   "cell_type": "code",
   "execution_count": 5,
   "metadata": {},
   "outputs": [],
   "source": [
    "ser = pd.Series(np.random.random(5), name = \"Column 01\")"
   ]
  },
  {
   "cell_type": "code",
   "execution_count": 6,
   "metadata": {},
   "outputs": [
    {
     "data": {
      "text/plain": [
       "0    0.583433\n",
       "1    0.937293\n",
       "2    0.846020\n",
       "3    0.470081\n",
       "4    0.073949\n",
       "Name: Column 01, dtype: float64"
      ]
     },
     "execution_count": 6,
     "metadata": {},
     "output_type": "execute_result"
    }
   ],
   "source": [
    "ser"
   ]
  },
  {
   "cell_type": "code",
   "execution_count": 7,
   "metadata": {},
   "outputs": [
    {
     "data": {
      "text/plain": [
       "0.8460203572636471"
      ]
     },
     "execution_count": 7,
     "metadata": {},
     "output_type": "execute_result"
    }
   ],
   "source": [
    "ser[2]"
   ]
  },
  {
   "cell_type": "code",
   "execution_count": 8,
   "metadata": {},
   "outputs": [],
   "source": [
    "from pandas_datareader import data as wb"
   ]
  },
  {
   "cell_type": "code",
   "execution_count": 9,
   "metadata": {},
   "outputs": [],
   "source": [
    "PG = wb.DataReader('PG', data_source='yahoo', start='1995-1-1')"
   ]
  },
  {
   "cell_type": "code",
   "execution_count": 10,
   "metadata": {},
   "outputs": [
    {
     "data": {
      "text/html": [
       "<div>\n",
       "<style scoped>\n",
       "    .dataframe tbody tr th:only-of-type {\n",
       "        vertical-align: middle;\n",
       "    }\n",
       "\n",
       "    .dataframe tbody tr th {\n",
       "        vertical-align: top;\n",
       "    }\n",
       "\n",
       "    .dataframe thead th {\n",
       "        text-align: right;\n",
       "    }\n",
       "</style>\n",
       "<table border=\"1\" class=\"dataframe\">\n",
       "  <thead>\n",
       "    <tr style=\"text-align: right;\">\n",
       "      <th></th>\n",
       "      <th>High</th>\n",
       "      <th>Low</th>\n",
       "      <th>Open</th>\n",
       "      <th>Close</th>\n",
       "      <th>Volume</th>\n",
       "      <th>Adj Close</th>\n",
       "    </tr>\n",
       "    <tr>\n",
       "      <th>Date</th>\n",
       "      <th></th>\n",
       "      <th></th>\n",
       "      <th></th>\n",
       "      <th></th>\n",
       "      <th></th>\n",
       "      <th></th>\n",
       "    </tr>\n",
       "  </thead>\n",
       "  <tbody>\n",
       "    <tr>\n",
       "      <th>1995-01-03</th>\n",
       "      <td>15.625000</td>\n",
       "      <td>15.437500</td>\n",
       "      <td>15.468750</td>\n",
       "      <td>15.593750</td>\n",
       "      <td>3318400.0</td>\n",
       "      <td>6.245947</td>\n",
       "    </tr>\n",
       "    <tr>\n",
       "      <th>1995-01-04</th>\n",
       "      <td>15.656250</td>\n",
       "      <td>15.312500</td>\n",
       "      <td>15.531250</td>\n",
       "      <td>15.468750</td>\n",
       "      <td>2218800.0</td>\n",
       "      <td>6.195877</td>\n",
       "    </tr>\n",
       "    <tr>\n",
       "      <th>1995-01-05</th>\n",
       "      <td>15.437500</td>\n",
       "      <td>15.218750</td>\n",
       "      <td>15.375000</td>\n",
       "      <td>15.250000</td>\n",
       "      <td>2319600.0</td>\n",
       "      <td>6.108259</td>\n",
       "    </tr>\n",
       "    <tr>\n",
       "      <th>1995-01-06</th>\n",
       "      <td>15.406250</td>\n",
       "      <td>15.156250</td>\n",
       "      <td>15.156250</td>\n",
       "      <td>15.281250</td>\n",
       "      <td>3438000.0</td>\n",
       "      <td>6.120776</td>\n",
       "    </tr>\n",
       "    <tr>\n",
       "      <th>1995-01-09</th>\n",
       "      <td>15.406250</td>\n",
       "      <td>15.187500</td>\n",
       "      <td>15.343750</td>\n",
       "      <td>15.218750</td>\n",
       "      <td>1795200.0</td>\n",
       "      <td>6.095740</td>\n",
       "    </tr>\n",
       "    <tr>\n",
       "      <th>...</th>\n",
       "      <td>...</td>\n",
       "      <td>...</td>\n",
       "      <td>...</td>\n",
       "      <td>...</td>\n",
       "      <td>...</td>\n",
       "      <td>...</td>\n",
       "    </tr>\n",
       "    <tr>\n",
       "      <th>2020-10-16</th>\n",
       "      <td>145.869995</td>\n",
       "      <td>143.919998</td>\n",
       "      <td>144.419998</td>\n",
       "      <td>144.389999</td>\n",
       "      <td>6806100.0</td>\n",
       "      <td>143.593002</td>\n",
       "    </tr>\n",
       "    <tr>\n",
       "      <th>2020-10-19</th>\n",
       "      <td>145.389999</td>\n",
       "      <td>141.130005</td>\n",
       "      <td>144.470001</td>\n",
       "      <td>141.910004</td>\n",
       "      <td>6427600.0</td>\n",
       "      <td>141.126694</td>\n",
       "    </tr>\n",
       "    <tr>\n",
       "      <th>2020-10-20</th>\n",
       "      <td>145.690002</td>\n",
       "      <td>141.899994</td>\n",
       "      <td>145.610001</td>\n",
       "      <td>142.479996</td>\n",
       "      <td>7582100.0</td>\n",
       "      <td>141.693542</td>\n",
       "    </tr>\n",
       "    <tr>\n",
       "      <th>2020-10-21</th>\n",
       "      <td>144.339996</td>\n",
       "      <td>142.470001</td>\n",
       "      <td>142.490005</td>\n",
       "      <td>143.250000</td>\n",
       "      <td>5646200.0</td>\n",
       "      <td>142.459290</td>\n",
       "    </tr>\n",
       "    <tr>\n",
       "      <th>2020-10-22</th>\n",
       "      <td>142.289993</td>\n",
       "      <td>141.089996</td>\n",
       "      <td>141.490005</td>\n",
       "      <td>141.929993</td>\n",
       "      <td>1922386.0</td>\n",
       "      <td>141.929993</td>\n",
       "    </tr>\n",
       "  </tbody>\n",
       "</table>\n",
       "<p>6499 rows × 6 columns</p>\n",
       "</div>"
      ],
      "text/plain": [
       "                  High         Low        Open       Close     Volume  \\\n",
       "Date                                                                    \n",
       "1995-01-03   15.625000   15.437500   15.468750   15.593750  3318400.0   \n",
       "1995-01-04   15.656250   15.312500   15.531250   15.468750  2218800.0   \n",
       "1995-01-05   15.437500   15.218750   15.375000   15.250000  2319600.0   \n",
       "1995-01-06   15.406250   15.156250   15.156250   15.281250  3438000.0   \n",
       "1995-01-09   15.406250   15.187500   15.343750   15.218750  1795200.0   \n",
       "...                ...         ...         ...         ...        ...   \n",
       "2020-10-16  145.869995  143.919998  144.419998  144.389999  6806100.0   \n",
       "2020-10-19  145.389999  141.130005  144.470001  141.910004  6427600.0   \n",
       "2020-10-20  145.690002  141.899994  145.610001  142.479996  7582100.0   \n",
       "2020-10-21  144.339996  142.470001  142.490005  143.250000  5646200.0   \n",
       "2020-10-22  142.289993  141.089996  141.490005  141.929993  1922386.0   \n",
       "\n",
       "             Adj Close  \n",
       "Date                    \n",
       "1995-01-03    6.245947  \n",
       "1995-01-04    6.195877  \n",
       "1995-01-05    6.108259  \n",
       "1995-01-06    6.120776  \n",
       "1995-01-09    6.095740  \n",
       "...                ...  \n",
       "2020-10-16  143.593002  \n",
       "2020-10-19  141.126694  \n",
       "2020-10-20  141.693542  \n",
       "2020-10-21  142.459290  \n",
       "2020-10-22  141.929993  \n",
       "\n",
       "[6499 rows x 6 columns]"
      ]
     },
     "execution_count": 10,
     "metadata": {},
     "output_type": "execute_result"
    }
   ],
   "source": [
    "PG"
   ]
  },
  {
   "cell_type": "code",
   "execution_count": 11,
   "metadata": {},
   "outputs": [],
   "source": [
    "AAPL = wb.DataReader('AAPL', data_source='yahoo', start='2020-10-20')"
   ]
  },
  {
   "cell_type": "code",
   "execution_count": 12,
   "metadata": {},
   "outputs": [
    {
     "data": {
      "text/html": [
       "<div>\n",
       "<style scoped>\n",
       "    .dataframe tbody tr th:only-of-type {\n",
       "        vertical-align: middle;\n",
       "    }\n",
       "\n",
       "    .dataframe tbody tr th {\n",
       "        vertical-align: top;\n",
       "    }\n",
       "\n",
       "    .dataframe thead th {\n",
       "        text-align: right;\n",
       "    }\n",
       "</style>\n",
       "<table border=\"1\" class=\"dataframe\">\n",
       "  <thead>\n",
       "    <tr style=\"text-align: right;\">\n",
       "      <th></th>\n",
       "      <th>High</th>\n",
       "      <th>Low</th>\n",
       "      <th>Open</th>\n",
       "      <th>Close</th>\n",
       "      <th>Volume</th>\n",
       "      <th>Adj Close</th>\n",
       "    </tr>\n",
       "    <tr>\n",
       "      <th>Date</th>\n",
       "      <th></th>\n",
       "      <th></th>\n",
       "      <th></th>\n",
       "      <th></th>\n",
       "      <th></th>\n",
       "      <th></th>\n",
       "    </tr>\n",
       "  </thead>\n",
       "  <tbody>\n",
       "    <tr>\n",
       "      <th>2020-10-20</th>\n",
       "      <td>118.980003</td>\n",
       "      <td>115.629997</td>\n",
       "      <td>116.199997</td>\n",
       "      <td>117.510002</td>\n",
       "      <td>124423700</td>\n",
       "      <td>117.510002</td>\n",
       "    </tr>\n",
       "    <tr>\n",
       "      <th>2020-10-21</th>\n",
       "      <td>118.709999</td>\n",
       "      <td>116.449997</td>\n",
       "      <td>116.669998</td>\n",
       "      <td>116.870003</td>\n",
       "      <td>89424000</td>\n",
       "      <td>116.870003</td>\n",
       "    </tr>\n",
       "    <tr>\n",
       "      <th>2020-10-22</th>\n",
       "      <td>118.040001</td>\n",
       "      <td>114.589996</td>\n",
       "      <td>117.449997</td>\n",
       "      <td>115.900002</td>\n",
       "      <td>65436473</td>\n",
       "      <td>115.900002</td>\n",
       "    </tr>\n",
       "  </tbody>\n",
       "</table>\n",
       "</div>"
      ],
      "text/plain": [
       "                  High         Low        Open       Close     Volume  \\\n",
       "Date                                                                    \n",
       "2020-10-20  118.980003  115.629997  116.199997  117.510002  124423700   \n",
       "2020-10-21  118.709999  116.449997  116.669998  116.870003   89424000   \n",
       "2020-10-22  118.040001  114.589996  117.449997  115.900002   65436473   \n",
       "\n",
       "             Adj Close  \n",
       "Date                    \n",
       "2020-10-20  117.510002  \n",
       "2020-10-21  116.870003  \n",
       "2020-10-22  115.900002  "
      ]
     },
     "execution_count": 12,
     "metadata": {},
     "output_type": "execute_result"
    }
   ],
   "source": [
    "AAPL"
   ]
  },
  {
   "cell_type": "code",
   "execution_count": 13,
   "metadata": {},
   "outputs": [
    {
     "name": "stdout",
     "output_type": "stream",
     "text": [
      "<class 'pandas.core.frame.DataFrame'>\n",
      "DatetimeIndex: 3 entries, 2020-10-20 to 2020-10-22\n",
      "Data columns (total 6 columns):\n",
      " #   Column     Non-Null Count  Dtype  \n",
      "---  ------     --------------  -----  \n",
      " 0   High       3 non-null      float64\n",
      " 1   Low        3 non-null      float64\n",
      " 2   Open       3 non-null      float64\n",
      " 3   Close      3 non-null      float64\n",
      " 4   Volume     3 non-null      int64  \n",
      " 5   Adj Close  3 non-null      float64\n",
      "dtypes: float64(5), int64(1)\n",
      "memory usage: 168.0 bytes\n"
     ]
    }
   ],
   "source": [
    "AAPL.info()"
   ]
  },
  {
   "cell_type": "code",
   "execution_count": 14,
   "metadata": {},
   "outputs": [
    {
     "data": {
      "text/plain": [
       "<bound method NDFrame.head of                   High         Low        Open       Close     Volume  \\\n",
       "Date                                                                    \n",
       "2020-10-20  118.980003  115.629997  116.199997  117.510002  124423700   \n",
       "2020-10-21  118.709999  116.449997  116.669998  116.870003   89424000   \n",
       "2020-10-22  118.040001  114.589996  117.449997  115.900002   65436473   \n",
       "\n",
       "             Adj Close  \n",
       "Date                    \n",
       "2020-10-20  117.510002  \n",
       "2020-10-21  116.870003  \n",
       "2020-10-22  115.900002  >"
      ]
     },
     "execution_count": 14,
     "metadata": {},
     "output_type": "execute_result"
    }
   ],
   "source": [
    "AAPL.head"
   ]
  },
  {
   "cell_type": "code",
   "execution_count": 15,
   "metadata": {},
   "outputs": [
    {
     "data": {
      "text/html": [
       "<div>\n",
       "<style scoped>\n",
       "    .dataframe tbody tr th:only-of-type {\n",
       "        vertical-align: middle;\n",
       "    }\n",
       "\n",
       "    .dataframe tbody tr th {\n",
       "        vertical-align: top;\n",
       "    }\n",
       "\n",
       "    .dataframe thead th {\n",
       "        text-align: right;\n",
       "    }\n",
       "</style>\n",
       "<table border=\"1\" class=\"dataframe\">\n",
       "  <thead>\n",
       "    <tr style=\"text-align: right;\">\n",
       "      <th></th>\n",
       "      <th>High</th>\n",
       "      <th>Low</th>\n",
       "      <th>Open</th>\n",
       "      <th>Close</th>\n",
       "      <th>Volume</th>\n",
       "      <th>Adj Close</th>\n",
       "    </tr>\n",
       "    <tr>\n",
       "      <th>Date</th>\n",
       "      <th></th>\n",
       "      <th></th>\n",
       "      <th></th>\n",
       "      <th></th>\n",
       "      <th></th>\n",
       "      <th></th>\n",
       "    </tr>\n",
       "  </thead>\n",
       "  <tbody>\n",
       "    <tr>\n",
       "      <th>2020-10-20</th>\n",
       "      <td>118.980003</td>\n",
       "      <td>115.629997</td>\n",
       "      <td>116.199997</td>\n",
       "      <td>117.510002</td>\n",
       "      <td>124423700</td>\n",
       "      <td>117.510002</td>\n",
       "    </tr>\n",
       "    <tr>\n",
       "      <th>2020-10-21</th>\n",
       "      <td>118.709999</td>\n",
       "      <td>116.449997</td>\n",
       "      <td>116.669998</td>\n",
       "      <td>116.870003</td>\n",
       "      <td>89424000</td>\n",
       "      <td>116.870003</td>\n",
       "    </tr>\n",
       "    <tr>\n",
       "      <th>2020-10-22</th>\n",
       "      <td>118.040001</td>\n",
       "      <td>114.589996</td>\n",
       "      <td>117.449997</td>\n",
       "      <td>115.900002</td>\n",
       "      <td>65436473</td>\n",
       "      <td>115.900002</td>\n",
       "    </tr>\n",
       "  </tbody>\n",
       "</table>\n",
       "</div>"
      ],
      "text/plain": [
       "                  High         Low        Open       Close     Volume  \\\n",
       "Date                                                                    \n",
       "2020-10-20  118.980003  115.629997  116.199997  117.510002  124423700   \n",
       "2020-10-21  118.709999  116.449997  116.669998  116.870003   89424000   \n",
       "2020-10-22  118.040001  114.589996  117.449997  115.900002   65436473   \n",
       "\n",
       "             Adj Close  \n",
       "Date                    \n",
       "2020-10-20  117.510002  \n",
       "2020-10-21  116.870003  \n",
       "2020-10-22  115.900002  "
      ]
     },
     "execution_count": 15,
     "metadata": {},
     "output_type": "execute_result"
    }
   ],
   "source": [
    "AAPL.tail()"
   ]
  },
  {
   "cell_type": "code",
   "execution_count": 17,
   "metadata": {},
   "outputs": [],
   "source": [
    "tickers = ['PG','MSFT','T', 'F', 'GE']\n",
    "new_data = pd.DataFrame()\n",
    "for t in tickers:\n",
    "    new_data[t] = wb.DataReader(t, data_source = 'yahoo', start='1995-1-1')['Adj Close']"
   ]
  },
  {
   "cell_type": "code",
   "execution_count": 18,
   "metadata": {},
   "outputs": [
    {
     "data": {
      "text/html": [
       "<div>\n",
       "<style scoped>\n",
       "    .dataframe tbody tr th:only-of-type {\n",
       "        vertical-align: middle;\n",
       "    }\n",
       "\n",
       "    .dataframe tbody tr th {\n",
       "        vertical-align: top;\n",
       "    }\n",
       "\n",
       "    .dataframe thead th {\n",
       "        text-align: right;\n",
       "    }\n",
       "</style>\n",
       "<table border=\"1\" class=\"dataframe\">\n",
       "  <thead>\n",
       "    <tr style=\"text-align: right;\">\n",
       "      <th></th>\n",
       "      <th>PG</th>\n",
       "      <th>MSFT</th>\n",
       "      <th>T</th>\n",
       "      <th>F</th>\n",
       "      <th>GE</th>\n",
       "    </tr>\n",
       "    <tr>\n",
       "      <th>Date</th>\n",
       "      <th></th>\n",
       "      <th></th>\n",
       "      <th></th>\n",
       "      <th></th>\n",
       "      <th></th>\n",
       "    </tr>\n",
       "  </thead>\n",
       "  <tbody>\n",
       "    <tr>\n",
       "      <th>2020-10-16</th>\n",
       "      <td>143.593002</td>\n",
       "      <td>219.660004</td>\n",
       "      <td>27.330000</td>\n",
       "      <td>7.670</td>\n",
       "      <td>7.290</td>\n",
       "    </tr>\n",
       "    <tr>\n",
       "      <th>2020-10-19</th>\n",
       "      <td>141.126694</td>\n",
       "      <td>214.220001</td>\n",
       "      <td>26.879999</td>\n",
       "      <td>7.590</td>\n",
       "      <td>7.290</td>\n",
       "    </tr>\n",
       "    <tr>\n",
       "      <th>2020-10-20</th>\n",
       "      <td>141.693542</td>\n",
       "      <td>214.649994</td>\n",
       "      <td>26.760000</td>\n",
       "      <td>7.740</td>\n",
       "      <td>7.340</td>\n",
       "    </tr>\n",
       "    <tr>\n",
       "      <th>2020-10-21</th>\n",
       "      <td>142.459290</td>\n",
       "      <td>214.800003</td>\n",
       "      <td>26.719999</td>\n",
       "      <td>7.850</td>\n",
       "      <td>7.320</td>\n",
       "    </tr>\n",
       "    <tr>\n",
       "      <th>2020-10-22</th>\n",
       "      <td>142.210007</td>\n",
       "      <td>214.337296</td>\n",
       "      <td>28.165001</td>\n",
       "      <td>8.055</td>\n",
       "      <td>7.655</td>\n",
       "    </tr>\n",
       "  </tbody>\n",
       "</table>\n",
       "</div>"
      ],
      "text/plain": [
       "                    PG        MSFT          T      F     GE\n",
       "Date                                                       \n",
       "2020-10-16  143.593002  219.660004  27.330000  7.670  7.290\n",
       "2020-10-19  141.126694  214.220001  26.879999  7.590  7.290\n",
       "2020-10-20  141.693542  214.649994  26.760000  7.740  7.340\n",
       "2020-10-21  142.459290  214.800003  26.719999  7.850  7.320\n",
       "2020-10-22  142.210007  214.337296  28.165001  8.055  7.655"
      ]
     },
     "execution_count": 18,
     "metadata": {},
     "output_type": "execute_result"
    }
   ],
   "source": [
    "new_data.tail()"
   ]
  },
  {
   "cell_type": "code",
   "execution_count": null,
   "metadata": {},
   "outputs": [],
   "source": []
  }
 ],
 "metadata": {
  "kernelspec": {
   "display_name": "Python 3",
   "language": "python",
   "name": "python3"
  },
  "language_info": {
   "codemirror_mode": {
    "name": "ipython",
    "version": 3
   },
   "file_extension": ".py",
   "mimetype": "text/x-python",
   "name": "python",
   "nbconvert_exporter": "python",
   "pygments_lexer": "ipython3",
   "version": "3.7.6"
  }
 },
 "nbformat": 4,
 "nbformat_minor": 4
}
